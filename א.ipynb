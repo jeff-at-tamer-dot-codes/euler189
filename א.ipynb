{
  "nbformat": 4,
  "nbformat_minor": 0,
  "metadata": {
    "colab": {
      "provenance": [],
      "authorship_tag": "ABX9TyMD9Yp176mAXmKmf3qA+zk0",
      "include_colab_link": true
    },
    "kernelspec": {
      "name": "python3",
      "display_name": "Python 3"
    },
    "language_info": {
      "name": "python"
    }
  },
  "cells": [
    {
      "cell_type": "markdown",
      "metadata": {
        "id": "view-in-github",
        "colab_type": "text"
      },
      "source": [
        "<a href=\"https://colab.research.google.com/github/jeff-at-tamer-dot-codes/misc/blob/main/%D7%90.ipynb\" target=\"_parent\"><img src=\"https://colab.research.google.com/assets/colab-badge.svg\" alt=\"Open In Colab\"/></a>"
      ]
    },
    {
      "cell_type": "code",
      "execution_count": null,
      "metadata": {
        "id": "SZddSpMRFseB",
        "colab": {
          "base_uri": "https://localhost:8080/"
        },
        "outputId": "63484e4b-85c2-4b40-a0d9-de95d870604f"
      },
      "outputs": [
        {
          "output_type": "stream",
          "name": "stdout",
          "text": [
            "The apocalypse began in a cubicle. \n",
            "H Right down the road from Berryessa Station there’s a big house with a hidden basement. The people who live there – usually six to eight of us, rarely the same from one month to the next – are the sort of artsy college students and aimless twenty-somethings who think that houses should have names. We call it Ithaca. Six days out of the week it’s an ordinary group house, with the ordinary arguments about who has to cook and when the living room is going to get cleaned. But on Wednesday nights people from all over the Bay Area gather in the basement to hold the secret rites of a faith banned throughout the civilized world.\n",
            "E E Ever since the sky cracked there has been a hurricane off the coast of Louisiana that never moves or decays. In its eye stands the Archangel Uriel. He is five hundred feet tall, and around him whirl colorful streams of letters from every alphabet and syllabary and abjad of every culture in history, making subtle and complex geometric patterns before they disappear in bursts of rainbow light. Occasionally he reaches out and snatches one with his colossal hand and inserts it elsewhere in the stream, and then rain falls, or empires crumble, or new islands rise from the deep. Today he is doing none of those things. Today he is looking very carefully at something no one else can see, and talking to himself.\n",
            "  A V Even before Erica finished formally adjourning the meeting, I wove my way through the crowd of garrulous people and up the stairs into my bedroom. I grabbed my laptop from the desk, then knocked on Ana’s door. She was there waiting for me.\n",
            "  S I X I remember the first time I met Ana Thurmond. \n",
            "  O L I S The computer whirred and chattered: the speaker producing Names faster than the ear could follow. I stared at the screen. I already knew I wouldn’t sleep tonight.\n",
            "  N   S   O My watch read 5 AM. Bill Dodd lived an hour’s walk away, close to the weird morass of swamps and mud flats that passed for the San Francisco Bay in this area. He woke up around six and left at seven for some tutoring job up in the North Bay. I figured by the time I got to his home, it would be just about morning and I could catch him while he was getting ready. \n",
            "      T     A The holy city of traditional kabbalah is Tzfat in Israel, where Rabbi Isaac Luria taught and died. The holy city of modern kabbalah ought to be Agloe, New York.\n",
            "      S     X H“WE SAY THAT MAN WAS MADE IN THE IMAGE OF GOD,” said Uriel. “BUT GOD IS INEFFABLE AND WITHOUT PHYSICAL FORM. RESOLVE THE PARADOX.”\n",
            "            I E H Campus library hadn’t changed much since I got expelled. I checked out three big books without even so much as a “You don’t look like an Ana Thurmond,” let alone UNSONG goons hauling me off somewhere. Thank goodness for automatic card reader machines.\n",
            "            M   O O Time and chance, according to the Book of Ecclesiastes, happeneth to us all. Ana had planned to sleep in, but it so happeneth that she woke up hungry and found herself out of milk. She threw on an old t-shirt – one she had gotten at a theodicy conference a few years ago, with the motto WHO WATCHES THE WATCHMAKER? on the front – grabbed a shopping bag, and headed out to the 7-11 on the corner.\n",
            "            I   L S O Sitting in bed with her computer on her lap, Erica Lowry watched the sun rise and writing the news.\n",
            "            Z   E M T U“Good morning,” said Sohu as she stepped out of her cottage. Technically it was already afternoon. She hadn’t slept late, but she’d stayed inside, studying, dreading to open the door. Uriel had no concept of small talk, and precious little concept of scheduling. She knew the moment she walked outside he would start expounding kabbalah at her, talking faster than she could follow and demanding impossible feats of scholarship. It wasn’t that she dreaded it, exactly. Just that she wanted to be able to steel herself a little before facing it. As for the archangel, he never seemed to notice or care about the time. She suspected she could have just stayed inside all week and spared herself any lessons at all, if she had been so inclined. But then why live with an archangel in a hurricane?\n",
            "            E     O A M O Something was horribly wrong.\n",
            "                  S L   O U We Bay Arians (Ana and I had debated multiple demonyms, including Bay Arean and Bay Aryan, before deciding we were more heretical than warlike, and definitely not the master race) tend to to think of the Central Valley as a nightmarish stretch of endless farms inhabited by people who, while not exactly dead, could hardly be called living. So far nothing Ana had seen in the two hour taxi ride to Ione had changed her mind.\n",
            "                  ’     D P E Runes of glowing fire troubled Sohu’s dreams, and she woke up the next morning to find them inscribed upon her skin in big dark welts. She ran out of her cottage, almost fell off the edge of the cloud.\n",
            "                        N P   A Picture a maiden lost in the hills.\n",
            "                        E O   N O“Why are we celebrating Passover?” asked Bill. “Are any of us even Jewish?”\n",
            "                        S S   K S O For a moment I was totally disoriented by the scene before me. Then vast, dark shapes began to take form.\n",
            "                        S E     S R R Beyond the nimbus and stratus, in the furthest reaches of the heavens, the parliament of the angels convened in the eye of a great cyclone. The walls of the storm curved in toward the center, so that they formed tier upon tier of seating for the angelic hosts. At the very bottom and in the very center was a whirlwind that concealed the archangel Metatron, the expression of God in the created world. Seated around him were thrones for the nine other archangels. Above them in concentric circles based on rank sat various cherubim, seraphim, ophanim, dominions, powers, principalities, weird lamb-dragon hybrids with hundreds of faces, glowing starlike beings rapt in meditation, geometric shapes covered with lidless golden eyes, and others even harder to describe.\n",
            "                        .       I L O E The resemblances between San Francisco and the Biblical Jerusalem are uncanny.\n",
            "                                B D M S O With a look of mad determination, the big man marched to the center of the crowded bar. “I’ll say it,” he said. “The Other King is a bad man.”\n",
            "                                L S   T   O Even though she could no longer hear it with her ears, it still rang in the back of her mind. A note, a single impossibly pure note that seemed to overpower everything else. But it grew fainter and fainter and finally faded away entirely. She didn’t miss it. She knew a minute longer up there and she would have lost herself, lost even the ability to know what losing herself entailed, lost the ability to think or feel or know or question anything ever again, turned into a perfect immobile crystal that was blindingly beautiful and totally inert.\n",
            "                                E         R V A ray of early morning sun beat on my face. Clouds flew by me like trucks rushing down a highway, and the heavens seemed to sing. It’s weird. You spend your entire adult life searching for Names of God and hanging out with angels, and the closest you come to a spiritual experience is paddling a flying kayak thousands of feet above San Bernardino County. I was flush with excitement at my close escape and at my other close escape and frankly at being pressed up against Jane so closely and of course at the view where I could see all of Southern California stretching out around us, lines of crumpled mountains one after another, and then…\n",
            "                                          S E F Coming from the edge of my consciousness, a faint voice:\n",
            "                                          T N T R“TELL ME ABOUT THE WORD WATER.”\n",
            "                                          .   E E H Belowdecks was the crew quarters. Ana didn’t expect her own room and didn’t get it. Her berth had four beds: one for her, three others for James, Lin, and Tomas. Her bed was technically Amoxiel’s, but the angel didn’t sleep. As far as they could tell, he just sort of sat on the deck all night, staring wistfully at the stars.\n",
            "                                              R A E E Over the centuries she had fallen in love with the place. A narrow plain, sunny three hundred days a year, blooming with poppies, watered by little rivers snaking out of arroyos in the nearby mountains. She had built her altar on one of the hills. The Aztecs knew her domain, and they called it Temictitlanoc, “place of the dream goddess.” Sometimes lost war bands would wander to its sunny hills, lie down beside the crashing waves, and see strange visions.\n",
            "                                                T   S N Sitting in his car, Father Ellis contemplated the Exodus. \n",
            "                                                I   T E H California shifted around us. Plains, then mountains, then taller mountains sloping down at last into a mind-boggling flatness of desert. And there we were. I had spent my entire life in that tiny strip of California coastline between the mountains and the sea. Now I was in the real West, a Biblical wilderness of scrub and harsh rocks unlike anything I had seen before. The land where the great dramas of the late twentieth century had played out, the twin stories of the Comet King and the Other King. In the blazing sunlight it felt more real and solid than the dreamland I had left behind.\n",
            "                                                N   ,   O R The song goes:\n",
            "                                                G       U E H Sohu stretched, splayed out further. “Knock knock,” she said.\n",
            "                                                        L A E E Bizarre surrealist painter Salvador Dali once said: “I do not do drugs. I am drugs.” He was being silly. He wasn’t drugs. He was Salvador Dali.\n",
            "                                                        D T   C E It was the second day of the Madrid Conference on the Israeli-Palestinian peace process. In the interests of fitting in the conference room, Uriel had shrunk to a mere ten feet tall. “AREN’T HUMANS USUALLY SHORTER THAN THAT?”, he had asked Sohu. “Yes,” she had told him, “but in order to succeed at diplomacy, you need to be intimidating.” She hadn’t mentioned how uncomfortable it was trying to sit in the chairs provided without his legs jutting out at an awkward angle. He had finally settled on leaning back in the chair, which kept his mind pleasantly occupied with the second-to-second task of maintaining his balance without breaking any physical laws.\n",
            "                                                          E   O C T Somehow the Comet King had become an adult. He had skipped puberty, telling Father Ellis that it sounded like too much trouble. One day he was a child; the next, his voice dropped, white hair grew on his chest, and he declared he would be having children. All the children.\n",
            "                                                              N A   T Curled up on a cloud, Sohu sat studying Talmud. She was just starting to consider packing it in for the night when her vision was seared by a nearby lightning strike. The subsequent thunder was instantaneous. She was still trying to get her sight back when her father strode through the door.\n",
            "                                                              D U   I O“Sinner” in Biblical Hebrew is “aval”, no doubt kabbalistically connected to our English word “evil.” The gematria value of “aval” is 106. Bishop Ussher, the Biblical chronologist who fixed Creation at 4004 BC, tells us that 106 years passed between Noah’s flood and the Tower of Babel. This is unsurprising; the decision to build a tower to Heaven out of vanity is a sinful act; thus instances of 106, the number of sinners, will appear around it.\n",
            "                                                              - S   L N O Blood bubbled up from the ground in little springs. The trees were growing skulls where the fruit should be. I concluded that I was somewhere from Aztec mythology. Probably not one of the good parts.\n",
            "                                                              B E   L T M E Ana groaned, grudgingly regained consciousness. James was shaking her, lightly. “Are you awake?” he whispered.\n",
            "                                                              E       A E A N Holy Scripture only mentions vampires once, but once is enough.\n",
            "                                                              S       I   U D A Talk to me, Aaron. I don’t know where you are, Aaron. Aaron, are you there?\n",
            "                                                              T       N   T   P H“Can I ask you something?” said Brian Young.\n",
            "                                                              ,       S   Y   P E O The overt meaning of salt is “sodium chloride.”\n",
            "                                                                              I N N H“TELL ME,” said Uriel, “ABOUT THE WORD ‘KABBALAH’ ITSELF.”\n",
            "                                                                              N   T R H Sarah finished telling her story. “Wow,” said Jinxiang. She mulled it over for a second to see if she had any other comment, then just added, again: “Wow.”\n",
            "                                                                              E   I O E E Commenters say Song of Songs 4:12 describes the imprisonment of the divine presence in the material world. “A garden locked is my sister, my bride,” it begins. “A rock garden locked, a spring sealed up.”\n",
            "                                                                              S   N U   R R“Evening,” the Comet King said from across the table, stifling a yawn. “Why don’t you tell me something about yourself and why I should marry you?”\n",
            "                                                                              S   U G   I E A Unfurling four of its seven sails, the world’s fastest ship shot out of the Panama Canal. It rocketed through the Caribbean and wove in and out of the Cayman Islands. It somehow skipped Cuba – the space that Not A Metaphor sailed through with its many-colored sails open wasn’t quite the same as the normal ocean – and nearly crashed into the Bahamas before executing a sudden turn that knocked everyone against the port railing. Four hours after the ship left the Gatun Locks, Amoxiel spotted the Florida coast.\n",
            "                                                                              .   E H   E A C N Right on cue, people noticed the sun speeding up. There were times when this would have been a cause for concern. As it was, the astronomical community just shrugged their shoulders and said “Uriel’s doing something again”, and there the matter rested.\n",
            "                                                                                        S T H T E They had taken us back to the NORAD command center. We sat at the big table, listening to the reassuring hum of a missile-free North American airspace.\n",
            "                                                                                        , I   I A H“What can I do for you today?” Robin asked the Comet King.\n",
            "                                                                                          N   L C O H Winter ended. Summer passed. Another and another. Uriel taught Sohu for eight more years after the eclipse, eight years without her aging a day.\n",
            "                                                                                          G     H S E I Alvarez’s apartment was so packed with books, bomb-making supplies, and extra people that somebody had to sleep in the closet. Erica had volunteered. She figured the former Lord High Magician of the Midwest deserved the sofa more than she did. Any sacrifice for the Revolution.\n",
            "                                                                                                I E R C N So passed fifteen years. New factories rose up. New mines sunk beneath the earth. New roads crisscrossed the mountains. Laboratories, barracks, fortresses, granaries, airstrips. All preparation for the final crusade. Over the course of a generation, the Comet King’s war on Hell shifted gradually from metaphorical spiritual struggle to “we’re going to need a lot of guns.”\n",
            "                                                                                                N   E K D U Overtly, the meaning of “king” is “a hereditary monarch.”\n",
            "                                                                                                G     E   F U Given the need to keep up spirits, Robin decided the people needed whatever holidays they could get. August 1, the anniversary of Colorado’s statehood, was as good an opportunity as anything else. So she stood on a rock spire in the Garden of the Gods as crowds – disproportionately female since a million men were marching in Siberia – listened for the words of their Queen Regent.\n",
            "                                                                                                      D   F T O Sohu asked whether I wanted to help her with the error correction process. It was the highlight of my life thus far. It was like getting asked to debate philosophy with Aristotle, or play one-on-one against Michael Jordan. Did I want to study the kabbalah with Sohu West? My heart leapt at the thought.\n",
            "                                                                                                      N   E W O O“We’ll try this again,” said Sohu. “Look into my eyes.”\n",
            "                                                                                                      E   R E D M O When she thought about it, Erica guessed it made sense for terrorists to hold dress rehearsals. Terrorist plots were complicated things where many different people had to do their parts right the first time. So it was reasonable to want to practice in some kind of low-stakes environment.\n",
            "                                                                                                      S   I I . E R I It could have been that she was pretty once. Now her face was sunken, her head hairless. Her arm was hung in a cast, and she looked terribly frail.\n",
            "                                                                                                      S   N G     L L N Midnight falls in the Garden of the Gods, and Robin West stands alone beneath the cold stars.\n",
            "                                                                                                          G H     D L C U It was afternoon, and we met together in the command center. Me. Sarah. The four Cometspawn. Vihaan, the Comet King’s uncle, chief of staff, and self-proclaimed butler. The Black Opal Throne towered over us, dominating with its emptiness.\n",
            "                                                                                                                  S   L C N Blue sky and fair winds, like every day in the eye of a hurricane. Multicolored symbols circled and sparkled round. Invisible celestial machinery kept up its steady pulse.\n",
            "                                                                                                                      U H I U Stefan had the most useless job at the entire United Nations – which was saying something. He and Ben stood outside of the door of a UN office building all day, checked everybody’s badges, and denied them entry if their badges were wrong. They never were.\n",
            "                                                                                                                      D   Q T T Brenda Burns spoke the Fulminant Name and shot a lightning bolt at Malia Ngo. It missed by a fraction of an inch and lit her desk on fire. Clark Deas had been in the process of lunging over the desk to get at Malia; his grunted as his shirt caught fire and started hitting himself against the wall, trying to put it out.\n",
            "                                                                                                                      E   U   I E Genesis 11:4: “And they said, ‘Come, let us build us a city and a tower whose top may reach unto heaven; and let us make us a name, lest we be scattered abroad upon the face of the whole earth’.” And the LORD waxed wroth, and He cursed them with a confusion of tongues, turned them into the seventy-two nations and scattered them around the world.\n",
            "                                                                                                                          I   L   O Only a few minutes before sunset now. The sea blazed orange. Fire Island rose as a dark line to the north.\n",
            "                                                                                                                          T   L   O N No analogy suffices. They came in like what they were, the greatest army ever collected, marching back home in in a frustrating mix of victory and defeat.\n",
            "                                                                                                                          Y       D   E The alarms went silent. North American airspace went black. The lights went out. THARMAS went quiet, then released an arc of electrical energy which briefly lit the otherwise pitch-black room before dying back down. Sohu gave a horrible primal scream.\n",
            "                                                                                                                                      T H It was called Tava, or “sun mountain”, by the Ute. El Capitan, meaning “the leader”, by the Spanish. But its modern name “Pike’s Peak” comes from explorer Zebulon Pike, and his name in turn comes from the Biblical Zebulon, son of Jacob. \n",
            "                                                                                                                                      . I S Opening the door to the Captain’s cabin, Ana saw a small room, dark and unadorned, with only a bare wooden bed. The Captain sat upon it, writing something, pages of notes strewn all about. He looked up at Ana, his face unreadable through the dark glasses. She hesitated for just a second, then spoke.\n",
            "                                                                                                                                        S   N Sohu pushed the heavy steel door open and entered the throne room.\n",
            "                                                                                                                                            E U\n",
            "                                                                                                                                              C\n",
            "                                                                                                                                              H\n",
            "                                                                                                                                              .\n"
          ]
        }
      ],
      "source": [
        "from bs4 import BeautifulSoup\n",
        "from collections.abc import Generator\n",
        "from urllib.parse import urlparse\n",
        "import requests\n",
        "\n",
        "def fetch(url: str) -> BeautifulSoup:\n",
        "  return BeautifulSoup(requests.get(url, headers={'User-Agent': 'URIEL.'}).text)\n",
        "\n",
        "def get_chapters(soup: BeautifulSoup) -> Generator[str]:\n",
        "  paths = set()\n",
        "  for link in soup.find_all('a'):\n",
        "    if 'chapter' not in (url := link.get('href', '')): continue\n",
        "    if (path := urlparse(url).path) in paths: break\n",
        "    yield url\n",
        "    paths.add(path)\n",
        "\n",
        "def get_first_line(soup: BeautifulSoup) -> str:\n",
        "  hit = False\n",
        "  for p in soup.find_all('p'):\n",
        "    if not (is_header := p.text.endswith(']') or next(p.children).name) and hit:\n",
        "      return p.text.replace('  ', ' ').replace(' ,', ',').replace('”.', '.”')\n",
        "    hit = is_header\n",
        "\n",
        "def get_theodicy(chapters: list[str]) -> list[str]:\n",
        "  for p in (soup := fetch(chapters[-2])).find_all('p'):\n",
        "    if len(chapters) != len(theodicy := p.text[1:-1].split()): continue\n",
        "    if theodicy[-2].startswith(get_first_line(soup)[0]): return theodicy\n",
        "\n",
        "def read(domain: str) -> None:\n",
        "  words = []\n",
        "  get_prefix = lambda: ' '.join(map(next, words))\n",
        "  chapters = list(get_chapters(fetch('https://' + domain)))\n",
        "  for (chapter, word) in zip(chapters, get_theodicy(chapters)):\n",
        "    text = get_first_line(fetch(chapter))\n",
        "    print(get_prefix() + (' ' * bool(words and text[0].isalpha())) + text)\n",
        "    words.append(iter(word[1:] + (' ' * 2 * len(chapters))))\n",
        "  while (prefix := get_prefix().rstrip()): print(prefix)\n",
        "\n",
        "read('unsongbook.com')"
      ]
    }
  ]
}